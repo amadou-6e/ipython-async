{
 "cells": [
  {
   "cell_type": "markdown",
   "metadata": {},
   "source": [
    "# IPython Async Demo Notebook\n",
    "\n",
    "This notebook demonstrates the usage of the `ipython-async` package, which allows you to run cells asynchronously across different shells and environments.\n",
    "This can be usefull, when wanting to run blocking commands, like server and databases, while still wanting to to interact with them in the following cells. \n",
    "\n",
    "The package includes four cell magics for jupyter:\n",
    "- asynccmd (Windows)\n",
    "- asyncpowershell (Windows)\n",
    "- asyncbash (Unix)\n",
    "- asyncpython (any)\n",
    "\n",
    "This allows you to start any kind of processes from within the notebook, while still interacting with them.\n",
    "\n",
    "## Simple HTTP Server Example\n",
    "\n",
    "Let's start a simple server and send it and http request:"
   ]
  },
  {
   "cell_type": "code",
   "execution_count": 32,
   "metadata": {},
   "outputs": [
    {
     "data": {
      "text/plain": [
       "Serving HTTP on :: port 8000 (http://[::]:8000/) ...\n",
       "::1 - - [09/Mar/2025 22:26:17] \"GET / HTTP/1.1\" 200 -\n"
      ]
     },
     "metadata": {},
     "output_type": "display_data"
    },
    {
     "data": {
      "text/plain": [
       "<Thread(Thread-23 (run_command), started daemon 32896)>"
      ]
     },
     "execution_count": 32,
     "metadata": {},
     "output_type": "execute_result"
    }
   ],
   "source": [
    "%%asynccmd\n",
    "python -m http.server 8000"
   ]
  },
  {
   "cell_type": "markdown",
   "metadata": {},
   "source": [
    "The request can come from a simple cell like:"
   ]
  },
  {
   "cell_type": "code",
   "execution_count": 33,
   "metadata": {},
   "outputs": [
    {
     "name": "stdout",
     "output_type": "stream",
     "text": [
      "<!DOCTYPE HTML>\n",
      "<html lang=\"en\">\n",
      "<head>\n",
      "<meta charset=\"utf-8\">\n",
      "<title>Directory listing for /</title>\n",
      "</head>\n",
      "<body>\n",
      "<h1>Directory listing for /</h1>\n",
      "<hr>\n",
      "<ul>\n",
      "<li><a href=\"env.yml\">env.yml</a></li>\n",
      "<li><a href=\"example.ipynb\">example.ipynb</a></li>\n",
      "</ul>\n",
      "<hr>\n",
      "</body>\n",
      "</html>\n"
     ]
    },
    {
     "name": "stderr",
     "output_type": "stream",
     "text": [
      "  % Total    % Received % Xferd  Average Speed   Time    Time     Time  Current\n",
      "                                 Dload  Upload   Total   Spent    Left  Speed\n",
      "\n",
      "  0     0    0     0    0     0      0      0 --:--:-- --:--:-- --:--:--     0\n",
      "100   277  100   277    0     0  89210      0 --:--:-- --:--:-- --:--:-- 92333\n"
     ]
    }
   ],
   "source": [
    "!curl http://localhost:8000"
   ]
  },
  {
   "cell_type": "markdown",
   "metadata": {},
   "source": [
    "The remainder of the notebook will introduce a brief introduction of usages"
   ]
  },
  {
   "cell_type": "markdown",
   "metadata": {},
   "source": [
    "## Installation\n",
    "\n",
    "Install the package through PyPi. Also make sure you run the notebooks using the conda env supplied in the env.yml located in this directory."
   ]
  },
  {
   "cell_type": "code",
   "execution_count": null,
   "metadata": {},
   "outputs": [],
   "source": [
    "# Uncomment and run this cell to install ipython-async\n",
    "# !pip install ipython-async\n",
    "# conda env create -f env.yml"
   ]
  },
  {
   "cell_type": "markdown",
   "metadata": {},
   "source": [
    "Now we'll load the extension to make the magic commands available:"
   ]
  },
  {
   "cell_type": "code",
   "execution_count": 21,
   "metadata": {},
   "outputs": [],
   "source": [
    "%reload_ext ipython_async"
   ]
  },
  {
   "cell_type": "markdown",
   "metadata": {},
   "source": [
    "## Usage\n",
    "\n",
    "Let's have a look at how to execute your cells asynchroneously. We can start with Windows command prompt:\n",
    "\n",
    "### Running Async Command Prompts\n",
    "\n",
    "The `%%asynccmd` magic by creating background processes in Windows command prompt. To see the effects, let's first run the asynchroneous version, followed by the jupyter notebooks default:"
   ]
  },
  {
   "cell_type": "code",
   "execution_count": null,
   "metadata": {},
   "outputs": [
    {
     "data": {
      "text/plain": [
       "Starting loop \n",
       "Async processing step 1 \n",
       "Async processing step 2 \n",
       "Async processing step 3 \n",
       "Async processing step 4 \n",
       "Async processing step 5 \n",
       "\n",
       "[Command completed successfully]"
      ]
     },
     "metadata": {},
     "output_type": "display_data"
    },
    {
     "data": {
      "text/plain": [
       "<Thread(Thread-28 (run_command), started daemon 28152)>"
      ]
     },
     "execution_count": 35,
     "metadata": {},
     "output_type": "execute_result"
    }
   ],
   "source": [
    "%%asynccmd\n",
    "echo Starting loop &\n",
    "FOR %i IN (1 2 3 4 5) DO (\n",
    "    echo Async processing step %i &\n",
    "    ping 127.0.0.1 -n 2 >nul\n",
    ")"
   ]
  },
  {
   "cell_type": "code",
   "execution_count": 36,
   "metadata": {},
   "outputs": [
    {
     "name": "stdout",
     "output_type": "stream",
     "text": [
      "Microsoft Windows [Version 10.0.22631.4974]\n",
      "(c) Microsoft Corporation. All rights reserved.\n",
      "\n",
      "(ipython-async-dev) c:\\Users\\acisse\\OneDrive - bridgingIT-Gruppe\\003_CodeWorkspace\\003_private\\ipython-async\\usage>@echo off >nul & \n",
      "echo Starting loop &\n",
      "Starting loop \n",
      "FOR %i IN (1 2 3 4 5) DO ( echo Processing step %i & ping 127.0.0.1 -n 2 >nul )\n",
      "Processing step 1 \n",
      "Processing step 2 \n",
      "Processing step 3 \n",
      "Processing step 4 \n",
      "Processing step 5 \n"
     ]
    }
   ],
   "source": [
    "%%cmd\n",
    "@echo off >nul & \n",
    "echo Starting loop &\n",
    "FOR %i IN (1 2 3 4 5) DO ( echo Processing step %i & ping 127.0.0.1 -n 2 >nul )"
   ]
  },
  {
   "cell_type": "markdown",
   "metadata": {},
   "source": [
    "As you should have observed, the asynchroneous version continued executing and printing, while the synchroneous version was already running.\n",
    "\n",
    "### Running Async Power Shells\n",
    "\n",
    "Same game for power shell commands:"
   ]
  },
  {
   "cell_type": "code",
   "execution_count": 5,
   "metadata": {},
   "outputs": [
    {
     "data": {
      "text/plain": [
       "Processing number 1\n",
       "Processing number 2\n",
       "Processing number 3\n",
       "Processing number 4\n",
       "Processing number 5\n",
       "PowerShell task completed!\n",
       "\n",
       "[Command completed successfully]"
      ]
     },
     "metadata": {},
     "output_type": "display_data"
    },
    {
     "data": {
      "text/plain": [
       "<Thread(Thread-7 (run_command), started daemon 7184)>"
      ]
     },
     "execution_count": 5,
     "metadata": {},
     "output_type": "execute_result"
    }
   ],
   "source": [
    "%%asyncpowershell\n",
    "# Create and process an array\n",
    "$numbers = 1..5\n",
    "foreach ($num in $numbers) {\n",
    "    Write-Output \"Processing number $num\"\n",
    "    Start-Sleep -Seconds 1\n",
    "}\n",
    "Write-Output \"PowerShell task completed!\""
   ]
  },
  {
   "cell_type": "code",
   "execution_count": 6,
   "metadata": {},
   "outputs": [
    {
     "name": "stdout",
     "output_type": "stream",
     "text": [
      "iter 0\n",
      "iter 1\n",
      "iter 2\n",
      "iter 3\n",
      "iter 4\n"
     ]
    }
   ],
   "source": [
    "from time import sleep\n",
    "for i in range(5):\n",
    "    print(f\"iter {i}\")\n",
    "    sleep(0.5)"
   ]
  },
  {
   "cell_type": "markdown",
   "metadata": {},
   "source": [
    "Notice that you can continue working in the notebook while the command runs in the background. Let's try another cell:"
   ]
  },
  {
   "cell_type": "markdown",
   "metadata": {},
   "source": [
    "### Running Async Bash Commands\n",
    "\n",
    "The `%%asyncbash` magic specifically uses Bash, for execution on Mac and Linux Machines:"
   ]
  },
  {
   "cell_type": "code",
   "execution_count": null,
   "metadata": {},
   "outputs": [
    {
     "data": {
      "text/plain": [
       "<3>WSL (10) ERROR: CreateProcessCommon:559: execvpe(/bin/bash) failed: No such file or directory\n",
       "\n",
       "[Command failed with exit code: 1]"
      ]
     },
     "metadata": {},
     "output_type": "display_data"
    },
    {
     "data": {
      "text/plain": [
       "<Thread(Thread-16 (run_command), started daemon 21160)>"
      ]
     },
     "execution_count": 25,
     "metadata": {},
     "output_type": "execute_result"
    }
   ],
   "source": [
    "%%asyncbash\n",
    "# Create a simple array and iterate through it\n",
    "fruits=(\"Apple\" \"Banana\" \"Cherry\" \"Date\")\n",
    "for fruit in \"${fruits[@]}\"; do\n",
    "    echo \"Processing $fruit\"\n",
    "    sleep 0.5\n",
    "done"
   ]
  },
  {
   "cell_type": "code",
   "execution_count": null,
   "metadata": {},
   "outputs": [
    {
     "name": "stdout",
     "output_type": "stream",
     "text": [
      "iter 0\n",
      "iter 1\n",
      "iter 2\n",
      "iter 3\n",
      "iter 4\n"
     ]
    }
   ],
   "source": [
    "for i in range(5):\n",
    "    print(f\"iter {i}\")\n",
    "    sleep(0.5)"
   ]
  },
  {
   "cell_type": "markdown",
   "metadata": {},
   "source": [
    "### Running Async Python Code\n",
    "\n",
    "The `%%asyncpython` magic runs simple python code in a separate process asynchronously:"
   ]
  },
  {
   "cell_type": "code",
   "execution_count": 1,
   "metadata": {},
   "outputs": [],
   "source": [
    "%reload_ext ipython_async\n",
    "from time import sleep"
   ]
  },
  {
   "cell_type": "code",
   "execution_count": 3,
   "metadata": {},
   "outputs": [
    {
     "data": {
      "text/plain": [
       "\n",
       "Starting computation...\n",
       "Computing step 1/5 - *\n",
       "Computing step 2/5 - **\n",
       "Computing step 3/5 - ***\n",
       "Computing step 4/5 - ****\n",
       "Computing step 5/5 - *****\n",
       "\n",
       "[Python code executed successfully]"
      ]
     },
     "metadata": {},
     "output_type": "display_data"
    },
    {
     "data": {
      "text/plain": [
       "<Thread(Thread-5 (run_python_code), started daemon 53296)>"
      ]
     },
     "execution_count": 3,
     "metadata": {},
     "output_type": "execute_result"
    }
   ],
   "source": [
    "%%asyncpython\n",
    "# Simulate some work\n",
    "print(\"\\nStarting computation...\")\n",
    "for i in range(5):\n",
    "    print(f\"Computing step {i+1}/5 - {'*' * (i+1)}\")\n",
    "    sleep(1)"
   ]
  },
  {
   "cell_type": "markdown",
   "metadata": {},
   "source": [
    "Notice, that variables from the context are preserved. In the previous cell, the `sleep` function is impored from the context."
   ]
  },
  {
   "cell_type": "code",
   "execution_count": 4,
   "metadata": {},
   "outputs": [
    {
     "name": "stdout",
     "output_type": "stream",
     "text": [
      "iter 0\n",
      "iter 1\n",
      "iter 2\n",
      "iter 3\n",
      "iter 4\n"
     ]
    }
   ],
   "source": [
    "for i in range(5):\n",
    "    print(f\"iter {i}\")\n",
    "    sleep(1)"
   ]
  },
  {
   "cell_type": "markdown",
   "metadata": {},
   "source": [
    "## 5. Running Multiple Async Commands Simultaneously\n",
    "\n",
    "You can run multiple async commands simultaneously, and they'll all execute in parallel:"
   ]
  },
  {
   "cell_type": "code",
   "execution_count": 29,
   "metadata": {},
   "outputs": [
    {
     "data": {
      "text/plain": [
       "Task 1 started\n",
       "Task 1 completed\n",
       "\n",
       "[Command completed successfully]"
      ]
     },
     "metadata": {},
     "output_type": "display_data"
    },
    {
     "data": {
      "text/plain": [
       "<Thread(Thread-19 (run_command), started daemon 28244)>"
      ]
     },
     "execution_count": 29,
     "metadata": {},
     "output_type": "execute_result"
    }
   ],
   "source": [
    "%%asyncpowershell\n",
    "echo \"Task 1 started\"\n",
    "sleep 5\n",
    "echo \"Task 1 completed\""
   ]
  },
  {
   "cell_type": "code",
   "execution_count": null,
   "metadata": {},
   "outputs": [
    {
     "data": {
      "text/plain": [
       "\\\"Task 2 started\\\" sleep 3 echo \\\"Task 2 completed\\\"\n",
       "\n",
       "[Command completed successfully]"
      ]
     },
     "metadata": {},
     "output_type": "display_data"
    },
    {
     "data": {
      "text/plain": [
       "<Thread(Thread-20 (run_command), started daemon 46152)>"
      ]
     },
     "execution_count": 30,
     "metadata": {},
     "output_type": "execute_result"
    }
   ],
   "source": [
    "%%asynccmd\n",
    "echo \"Task 2 started\"\n",
    "sleep 3\n",
    "echo \"Task 2 completed\""
   ]
  },
  {
   "cell_type": "code",
   "execution_count": null,
   "metadata": {},
   "outputs": [
    {
     "data": {
      "text/plain": [
       "\\\"Task 3 started\\\" sleep 1 echo \\\"Task 3 completed\\\"\n",
       "\n",
       "[Command completed successfully]"
      ]
     },
     "metadata": {},
     "output_type": "display_data"
    },
    {
     "data": {
      "text/plain": [
       "<Thread(Thread-21 (run_command), started daemon 21776)>"
      ]
     },
     "execution_count": 31,
     "metadata": {},
     "output_type": "execute_result"
    }
   ],
   "source": [
    "%%asynccmd\n",
    "echo \"Task 3 started\"\n",
    "sleep 1\n",
    "echo \"Task 3 completed\""
   ]
  },
  {
   "cell_type": "markdown",
   "metadata": {},
   "source": [
    "## 6. Practical Example: File Processing\n",
    "\n",
    "Here's a practical example of using `%%asyncpython` to process a large dataset in the background:"
   ]
  },
  {
   "cell_type": "code",
   "execution_count": null,
   "metadata": {},
   "outputs": [],
   "source": [
    "# First, let's create a sample CSV file\n",
    "import pandas as pd\n",
    "import numpy as np\n",
    "\n",
    "# Generate random data\n",
    "np.random.seed(42)\n",
    "data = {\n",
    "    'id': range(1, 10001),\n",
    "    'value_a': np.random.randn(10000),\n",
    "    'value_b': np.random.randn(10000),\n",
    "    'category': np.random.choice(['A', 'B', 'C', 'D'], 10000)\n",
    "}\n",
    "\n",
    "df = pd.DataFrame(data)\n",
    "df.to_csv('sample_data.csv', index=False)\n",
    "print(\"Created sample_data.csv with 10,000 rows\")"
   ]
  },
  {
   "cell_type": "code",
   "execution_count": null,
   "metadata": {},
   "outputs": [],
   "source": [
    "%%asyncpython\n",
    "# Process the CSV file in the background\n",
    "import pandas as pd\n",
    "import time\n",
    "import os\n",
    "\n",
    "print(f\"Starting file processing at {time.strftime('%H:%M:%S')}\")\n",
    "print(f\"Working directory: {os.getcwd()}\")\n",
    "\n",
    "# Load the data\n",
    "print(\"Loading data...\")\n",
    "df = pd.read_csv('sample_data.csv')\n",
    "print(f\"Loaded {len(df)} rows and {len(df.columns)} columns\")\n",
    "\n",
    "# Simulate some heavy processing\n",
    "print(\"\\nProcessing data...\")\n",
    "for i in range(5):\n",
    "    print(f\"Processing step {i+1}/5\")\n",
    "    time.sleep(1)\n",
    "\n",
    "# Do some actual calculations\n",
    "print(\"\\nCalculating statistics...\")\n",
    "stats = df.groupby('category').agg({\n",
    "    'value_a': ['count', 'mean', 'std', 'min', 'max'],\n",
    "    'value_b': ['mean', 'std', 'min', 'max']\n",
    "})\n",
    "\n",
    "print(\"\\nSummary statistics by category:\")\n",
    "print(stats)\n",
    "\n",
    "# Calculate correlations\n",
    "print(\"\\nCalculating correlations...\")\n",
    "corr = df[['value_a', 'value_b']].corr()\n",
    "print(corr)\n",
    "\n",
    "# Save results\n",
    "print(\"\\nSaving results...\")\n",
    "stats.to_csv('stats_results.csv')\n",
    "print(f\"Processing completed at {time.strftime('%H:%M:%S')}\")"
   ]
  },
  {
   "cell_type": "markdown",
   "metadata": {},
   "source": [
    "While the data processing is happening, you can continue working here:"
   ]
  },
  {
   "cell_type": "code",
   "execution_count": null,
   "metadata": {},
   "outputs": [],
   "source": [
    "# Continue with other work while processing happens in the background\n",
    "print(\"We can continue working while the file processing runs in the background.\")\n",
    "\n",
    "# Maybe prepare a visualization framework for when results are ready\n",
    "import matplotlib.pyplot as plt\n",
    "\n",
    "plt.figure(figsize=(12, 6))\n",
    "plt.title('Ready for plotting results when processing completes')\n",
    "plt.text(0.5, 0.5, 'Results will be visualized here', \n",
    "         horizontalalignment='center', verticalalignment='center',\n",
    "         transform=plt.gca().transAxes, fontsize=14)\n",
    "plt.show()"
   ]
  },
  {
   "cell_type": "markdown",
   "metadata": {},
   "source": [
    "## 7. Load Results When Ready\n",
    "\n",
    "Once the background processing is complete, you can load and visualize the results:"
   ]
  },
  {
   "cell_type": "code",
   "execution_count": null,
   "metadata": {},
   "outputs": [],
   "source": [
    "# Check if the results file exists\n",
    "import os\n",
    "import time\n",
    "import pandas as pd\n",
    "\n",
    "# Wait for file to be available (with timeout)\n",
    "max_wait = 20  # seconds\n",
    "start_time = time.time()\n",
    "file_ready = False\n",
    "\n",
    "while time.time() - start_time < max_wait:\n",
    "    if os.path.exists('stats_results.csv'):\n",
    "        file_ready = True\n",
    "        break\n",
    "    print(\"Waiting for processing to complete...\")\n",
    "    time.sleep(2)\n",
    "\n",
    "if file_ready:\n",
    "    # Load and display the results\n",
    "    stats = pd.read_csv('stats_results.csv')\n",
    "    print(\"Results are ready!\")\n",
    "    display(stats.head())\n",
    "    \n",
    "    # Visualize some of the results\n",
    "    category_means = pd.read_csv('stats_results.csv', index_col=0)\n",
    "    print(category_means.columns)\n",
    "    \n",
    "    # Fix the column access for the MultiIndex created by the groupby\n",
    "    # Depending on how the CSV was saved, you may need to adjust this\n",
    "    plt.figure(figsize=(10, 6))\n",
    "    plt.bar(category_means.index, category_means.iloc[:, 1])  # Accessing mean of value_a\n",
    "    plt.title('Mean of value_a by Category')\n",
    "    plt.xlabel('Category')\n",
    "    plt.ylabel('Mean Value')\n",
    "    plt.show()\n",
    "else:\n",
    "    print(\"Processing is still running or encountered an error. Check the output above.\")"
   ]
  },
  {
   "cell_type": "markdown",
   "metadata": {},
   "source": [
    "## 8. Cleanup\n",
    "\n",
    "Finally, let's clean up any temporary files we created:"
   ]
  },
  {
   "cell_type": "code",
   "execution_count": null,
   "metadata": {},
   "outputs": [],
   "source": [
    "%%asynccmd\n",
    "# Clean up temporary files\n",
    "echo \"Cleaning up temporary files...\"\n",
    "if [ -f sample_data.csv ]; then\n",
    "    rm sample_data.csv\n",
    "    echo \"Removed sample_data.csv\"\n",
    "fi\n",
    "\n",
    "if [ -f stats_results.csv ]; then\n",
    "    rm stats_results.csv\n",
    "    echo \"Removed stats_results.csv\"\n",
    "fi\n",
    "\n",
    "echo \"Cleanup completed!\""
   ]
  },
  {
   "cell_type": "markdown",
   "metadata": {},
   "source": [
    "## Conclusion\n",
    "\n",
    "The `ipython-async` package allows you to run commands and code asynchronously while continuing to work in your notebook. This is especially useful for:\n",
    "\n",
    "1. Long-running processes that would otherwise block your notebook\n",
    "2. Working with multiple shells simultaneously (bash, PowerShell, etc.)\n",
    "3. Processing data in the background while you prepare visualizations\n",
    "4. Running system commands without interrupting your workflow\n",
    "\n",
    "All output is captured and displayed in real-time, making it easy to monitor progress."
   ]
  }
 ],
 "metadata": {
  "kernelspec": {
   "display_name": "ipython-async-dev",
   "language": "python",
   "name": "python3"
  },
  "language_info": {
   "codemirror_mode": {
    "name": "ipython",
    "version": 3
   },
   "file_extension": ".py",
   "mimetype": "text/x-python",
   "name": "python",
   "nbconvert_exporter": "python",
   "pygments_lexer": "ipython3",
   "version": "3.11.11"
  }
 },
 "nbformat": 4,
 "nbformat_minor": 4
}
